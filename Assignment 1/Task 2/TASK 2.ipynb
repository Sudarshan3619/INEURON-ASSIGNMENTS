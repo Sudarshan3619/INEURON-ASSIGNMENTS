{
 "cells": [
  {
   "cell_type": "markdown",
   "metadata": {},
   "source": [
    "#### QUESTION 1"
   ]
  },
  {
   "cell_type": "code",
   "execution_count": 1,
   "metadata": {},
   "outputs": [
    {
     "name": "stdout",
     "output_type": "stream",
     "text": [
      "1,2,3,4,5\n",
      "[1, 2, 3, 4, 5]\n"
     ]
    }
   ],
   "source": [
    "L=list(map(int,input().split(',')))\n",
    "print(L)"
   ]
  },
  {
   "cell_type": "markdown",
   "metadata": {},
   "source": [
    "#### QUESTION 2"
   ]
  },
  {
   "cell_type": "code",
   "execution_count": 3,
   "metadata": {},
   "outputs": [
    {
     "name": "stdout",
     "output_type": "stream",
     "text": [
      "*\n",
      "**\n",
      "***\n",
      "****\n",
      "*****\n",
      "****\n",
      "***\n",
      "**\n",
      "*\n"
     ]
    }
   ],
   "source": [
    "for j in range(1,6):\n",
    "    print(j*'*')\n",
    "for j in range(4,0,-1):\n",
    "    print(j*'*')\n",
    "    "
   ]
  },
  {
   "cell_type": "markdown",
   "metadata": {},
   "source": [
    "#### QUESTION 3"
   ]
  },
  {
   "cell_type": "code",
   "execution_count": 4,
   "metadata": {},
   "outputs": [
    {
     "name": "stdout",
     "output_type": "stream",
     "text": [
      "enter string :INEURON\n",
      "NORUENI\n"
     ]
    }
   ],
   "source": [
    "s=input('enter string :')\n",
    "\n",
    "print(s[::-1])"
   ]
  },
  {
   "cell_type": "markdown",
   "metadata": {},
   "source": [
    "#### QUESTION 4"
   ]
  },
  {
   "cell_type": "code",
   "execution_count": 5,
   "metadata": {},
   "outputs": [
    {
     "name": "stdout",
     "output_type": "stream",
     "text": [
      "enter string :WE, THE PEOPLE OF INDIA, having solemnly resolved to constitute India into a SOVEREIGN, SOCIALIST, SECULAR, DEMOCRATIC REPUBLIC and to secure to all its citizens \n",
      "--------------------------------THE OUTPUT IS---------------------------------------\n",
      "WE, THE PEOPLE OF INDIA,\n",
      "      having solemnly resolved to constitute India into a SOVEREIGN,!\n",
      "            SOCIALIST, SECULAR, DEMOCRATIC REPUBLIC \n",
      "            and to secure to all its citizens \n"
     ]
    }
   ],
   "source": [
    "s=input('enter string :')\n",
    "j=0\n",
    "print(\"--------------------------------THE OUTPUT IS---------------------------------------\")\n",
    "for i in range(len(s)):\n",
    "    a=s[j:i]\n",
    "    if 'INDIA' in a:\n",
    "        print(a+s[i])\n",
    "        j=i+1\n",
    "        print(5*' ',end='')\n",
    "    if 'SOVEREIGN' in a:\n",
    "        print(a+s[i]+'!')\n",
    "        j=i+1\n",
    "        print(11*' ',end='')\n",
    "    if 'REPUBLIC' in a:\n",
    "        print(a+s[i])\n",
    "        j=i+1\n",
    "        print(12*' ',end='')\n",
    "print(s[j:])\n",
    "        \n",
    "        \n",
    "    "
   ]
  },
  {
   "cell_type": "code",
   "execution_count": null,
   "metadata": {},
   "outputs": [],
   "source": []
  }
 ],
 "metadata": {
  "kernelspec": {
   "display_name": "Python 3",
   "language": "python",
   "name": "python3"
  },
  "language_info": {
   "codemirror_mode": {
    "name": "ipython",
    "version": 3
   },
   "file_extension": ".py",
   "mimetype": "text/x-python",
   "name": "python",
   "nbconvert_exporter": "python",
   "pygments_lexer": "ipython3",
   "version": "3.7.3"
  }
 },
 "nbformat": 4,
 "nbformat_minor": 2
}
