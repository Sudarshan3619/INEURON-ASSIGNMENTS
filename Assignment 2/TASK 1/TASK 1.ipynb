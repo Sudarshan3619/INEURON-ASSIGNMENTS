{
 "cells": [
  {
   "cell_type": "markdown",
   "metadata": {},
   "source": [
    "#### QUESTION 1.1"
   ]
  },
  {
   "cell_type": "code",
   "execution_count": 15,
   "metadata": {},
   "outputs": [
    {
     "name": "stdout",
     "output_type": "stream",
     "text": [
      "Making string with characters using myreduce function 12345\n"
     ]
    }
   ],
   "source": [
    "def myreduce(func,lst):\n",
    "    t=lst[0]\n",
    "    for i in lst[1:]:\n",
    "        t=func(t,i)\n",
    "    return t\n",
    "\n",
    "a=myreduce(lambda a,b:a+b,['1','2','3','4','5'])\n",
    "print('Making string with characters using myreduce function',a)"
   ]
  },
  {
   "cell_type": "markdown",
   "metadata": {},
   "source": [
    "#### QUESTION 1.2"
   ]
  },
  {
   "cell_type": "code",
   "execution_count": 16,
   "metadata": {},
   "outputs": [
    {
     "name": "stdout",
     "output_type": "stream",
     "text": [
      "product of all the numbers using myfilter function 120\n"
     ]
    }
   ],
   "source": [
    "def myfilter(func,lst):\n",
    "    t=1\n",
    "    for i in lst:\n",
    "        t=t*func(i)\n",
    "    return t\n",
    "\n",
    "a=myfilter(int,['1','2','3','4','5'])\n",
    "\n",
    "print('product of all the numbers using myfilter function',a)"
   ]
  },
  {
   "cell_type": "markdown",
   "metadata": {},
   "source": [
    "#### QUESTION 2"
   ]
  },
  {
   "cell_type": "code",
   "execution_count": 43,
   "metadata": {},
   "outputs": [
    {
     "name": "stdout",
     "output_type": "stream",
     "text": [
      "-------------Lists using list comprehension---------------\n",
      "['A', 'C', 'A', 'D', 'G', 'I', 'L', 'D']\n",
      "['x', 'xx', 'xxx', 'xxxx', 'y', 'yy', 'yyy', 'yyyy', 'z', 'zz', 'zzz', 'zzzz']\n",
      "['x', 'y', 'z', 'xx', 'yy', 'zz', 'xxx', 'yyy', 'zzz', 'xxxx', 'yyyy', 'zzzz']\n",
      "[[2], [3], [4], [3], [4], [5], [4], [5], [6]]\n",
      "[[2, 3, 4, 5], [3, 4, 5, 6], [4, 5, 6, 7], [5, 6, 7, 8]]\n",
      "[(1, 1), (2, 1), (3, 1), (1, 2), (2, 2), (3, 2), (1, 3), (2, 3), (3, 3)]\n"
     ]
    }
   ],
   "source": [
    "\n",
    "print('-------------Lists using list comprehension---------------')\n",
    "print([x for x in 'ACADGILD'])\n",
    "#-------------------------------------------------------------------------\n",
    "lst=['x','y','z']\n",
    "\n",
    "l=[j*i for i in lst for j in range(1,5)]\n",
    "print(l)\n",
    "#-------------------------------------------------------------------------\n",
    "l=[]\n",
    "l=[i*j for i in range(1,5) for j in lst]\n",
    "print(l)\n",
    "#-------------------------------------------------------------------------\n",
    "print([[j] for i in range(2,5) for j in range(i,i+3)])\n",
    "#-------------------------------------------------------------------------\n",
    "print([list(range(i,i+4)) for i in range(2,6)])\n",
    "#-------------------------------------------------------------------------\n",
    "print([(j,i) for i in range(1,4) for j in range(1,4)])"
   ]
  },
  {
   "cell_type": "markdown",
   "metadata": {},
   "source": [
    "#### QUESTION 3"
   ]
  },
  {
   "cell_type": "code",
   "execution_count": 46,
   "metadata": {},
   "outputs": [
    {
     "data": {
      "text/plain": [
       "'sss'"
      ]
     },
     "execution_count": 46,
     "metadata": {},
     "output_type": "execute_result"
    }
   ],
   "source": [
    "def longestWord(lst):\n",
    "    a=lst[0]\n",
    "    for i in lst[1:]:\n",
    "        if len(a)<len(i):\n",
    "            a=i\n",
    "            \n",
    "    return a\n",
    "longestWord(['a','aa','bb','sss'])"
   ]
  },
  {
   "cell_type": "code",
   "execution_count": null,
   "metadata": {},
   "outputs": [],
   "source": []
  }
 ],
 "metadata": {
  "kernelspec": {
   "display_name": "Python 3",
   "language": "python",
   "name": "python3"
  },
  "language_info": {
   "codemirror_mode": {
    "name": "ipython",
    "version": 3
   },
   "file_extension": ".py",
   "mimetype": "text/x-python",
   "name": "python",
   "nbconvert_exporter": "python",
   "pygments_lexer": "ipython3",
   "version": "3.7.3"
  }
 },
 "nbformat": 4,
 "nbformat_minor": 2
}
